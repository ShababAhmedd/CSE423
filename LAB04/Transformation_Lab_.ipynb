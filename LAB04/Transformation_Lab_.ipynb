{
  "nbformat": 4,
  "nbformat_minor": 0,
  "metadata": {
    "colab": {
      "provenance": []
    },
    "kernelspec": {
      "name": "python3",
      "display_name": "Python 3"
    },
    "language_info": {
      "name": "python"
    },
    "accelerator": "GPU"
  },
  "cells": [
    {
      "cell_type": "code",
      "source": [
        "!pip install -q lucid>=0.2.3"
      ],
      "metadata": {
        "id": "L3y0yGFYiWRI",
        "colab": {
          "base_uri": "https://localhost:8080/"
        },
        "outputId": "6adbe780-27c5-4225-8c8b-ef35d53ccbfa"
      },
      "execution_count": null,
      "outputs": [
        {
          "output_type": "stream",
          "name": "stdout",
          "text": [
            "\u001b[31mERROR: pip's dependency resolver does not currently take into account all the packages that are installed. This behaviour is the source of the following dependency conflicts.\n",
            "xarray 2022.12.0 requires numpy>=1.20, but you have numpy 1.19.0 which is incompatible.\n",
            "xarray-einstats 0.5.1 requires numpy>=1.20, but you have numpy 1.19.0 which is incompatible.\n",
            "tensorflow 2.11.0 requires numpy>=1.20, but you have numpy 1.19.0 which is incompatible.\n",
            "opencv-python 4.7.0.72 requires numpy>=1.19.3; python_version >= \"3.9\", but you have numpy 1.19.0 which is incompatible.\n",
            "opencv-python-headless 4.7.0.72 requires numpy>=1.19.3; python_version >= \"3.9\", but you have numpy 1.19.0 which is incompatible.\n",
            "opencv-contrib-python 4.7.0.72 requires numpy>=1.19.3; python_version >= \"3.9\", but you have numpy 1.19.0 which is incompatible.\n",
            "matplotlib 3.7.1 requires numpy>=1.20, but you have numpy 1.19.0 which is incompatible.\n",
            "librosa 0.10.0.post1 requires numpy!=1.22.0,!=1.22.1,!=1.22.2,>=1.20.3, but you have numpy 1.19.0 which is incompatible.\n",
            "jaxlib 0.4.6+cuda11.cudnn86 requires numpy>=1.20, but you have numpy 1.19.0 which is incompatible.\n",
            "jax 0.4.6 requires numpy>=1.20, but you have numpy 1.19.0 which is incompatible.\n",
            "cupy-cuda11x 11.0.0 requires numpy<1.26,>=1.20, but you have numpy 1.19.0 which is incompatible.\n",
            "cmdstanpy 1.1.0 requires numpy>=1.21, but you have numpy 1.19.0 which is incompatible.\n",
            "astropy 5.2.1 requires numpy>=1.20, but you have numpy 1.19.0 which is incompatible.\n",
            "arviz 0.15.1 requires numpy>=1.20.0, but you have numpy 1.19.0 which is incompatible.\u001b[0m\u001b[31m\n",
            "\u001b[0m"
          ]
        }
      ]
    },
    {
      "cell_type": "code",
      "source": [
        "import numpy as np\n",
        "\n",
        "import ctypes.util\n",
        "from lucid.misc.gl.glcontext import create_opengl_context\n",
        "\n",
        "# Now it's safe to import OpenGL and EGL functions\n",
        "import OpenGL.GL as gl\n",
        "from OpenGL.GLU import *\n",
        "\n",
        "# create_opengl_context() creates GL context that is attached to an\n",
        "# offscreen surface of specified size. Note that rendering to buffers\n",
        "# of different size and format is still possible with OpenGL Framebuffers.\n",
        "#\n",
        "# Users are expected to directly use EGL calls in case more advanced\n",
        "# context management is required.\n",
        "WIDTH, HEIGHT = 800,600\n",
        "create_opengl_context((WIDTH, HEIGHT))\n",
        "    \n",
        "# OpenGL context is available here.\n",
        "\n",
        "print(gl.glGetString(gl.GL_VERSION))\n",
        "print(gl.glGetString(gl.GL_VENDOR)) \n",
        "#print(gl.glGetString(gl.GL_EXTENSIONS))"
      ],
      "metadata": {
        "id": "YXv13t34XX7o",
        "colab": {
          "base_uri": "https://localhost:8080/"
        },
        "outputId": "1d83dabf-6754-44ac-b546-fd6f6cc813bb"
      },
      "execution_count": null,
      "outputs": [
        {
          "output_type": "stream",
          "name": "stdout",
          "text": [
            "b'4.6.0 NVIDIA 525.85.12'\n",
            "b'NVIDIA Corporation'\n"
          ]
        }
      ]
    },
    {
      "cell_type": "code",
      "source": [
        "import math\n",
        "# Let's render something!\n",
        "gl.glClear(gl.GL_COLOR_BUFFER_BIT)\n",
        "\n",
        "gl.glColor3f(.5,.3,.7)\n",
        "gl.glPointSize(5)\n",
        "\n",
        "# AXIS\n",
        "gl.glBegin(gl.GL_LINES)\n",
        "gl.glVertex2f(0,-1)\n",
        "gl.glVertex2f(0,1)\n",
        "gl.glVertex2f(1,0)\n",
        "gl.glVertex2f(-1,0)\n",
        "gl.glEnd()\n",
        "\n",
        "gl.glColor3f(0,.5,0)\n",
        "gl.glBegin(gl.GL_POINTS)\n",
        "gl.glVertex2f(.1, 0)\n",
        "gl.glEnd()\n",
        "\n",
        "# Green \n",
        "gl.glBegin(gl.GL_QUADS)\n",
        "gl.glVertex2f(.2,.2)\n",
        "gl.glVertex2f(-.2,.2)\n",
        "gl.glVertex2f(-.2,-.2)\n",
        "gl.glVertex2f(.2,-.2)\n",
        "gl.glEnd()\n",
        "\n",
        "# Roatating degree\n",
        "a = math.cos(math.radians(45))\n",
        "b = math.sin(math.radians(45))\n",
        "\n",
        "# print(a)\n",
        "\n",
        "# Rotating matrix\n",
        "r = np.array([[a, -b, 0],\n",
        "             [b, a, 0],\n",
        "             [0, 0, 1]])\n",
        "\n",
        "\n",
        "sc = 0.5              # scaling value.\n",
        "s = np.array([[sc, 0, 0],\n",
        "             [0, sc, 0],\n",
        "             [0, 0, 1]])\n",
        "\n",
        "# Multiplying the rotational and scaling matrix.\n",
        "rs = np.matmul(r,s)\n",
        "\n",
        "# Creating matrixes\n",
        "v1 = np.array([[.2],\n",
        "              [.2],\n",
        "              [1]])\n",
        "v2 = np.array([[-.2],\n",
        "              [.2],\n",
        "              [1]])\n",
        "v3 = np.array([[-.2],\n",
        "              [-.2],\n",
        "              [1]])\n",
        "v4 = np.array([[.2],\n",
        "              [-.2],\n",
        "              [1]])\n",
        "\n",
        "#rotation\n",
        "# v11 = np.matmul(r,v1)\n",
        "# v22 = np.matmul(r,v2)\n",
        "# v33 = np.matmul(r,v3)\n",
        "# v44 = np.matmul(r,v4)\n",
        "\n",
        "#scaling\n",
        "# v11 = np.matmul(s,v1)\n",
        "# v22 = np.matmul(s,v2)\n",
        "# v33 = np.matmul(s,v3)\n",
        "# v44 = np.matmul(s,v4)\n",
        "\n",
        "#rotation - scaling\n",
        "v11 = np.matmul(rs,v1)\n",
        "v22 = np.matmul(rs,v2)\n",
        "v33 = np.matmul(rs,v3)\n",
        "v44 = np.matmul(rs,v4)\n",
        "\n",
        "gl.glColor3f(1,0,0)\n",
        "gl.glBegin(gl.GL_QUADS)\n",
        "gl.glVertex2f(v11[0][0],v11[1][0])      # x, y values of the respective vectors passed into the function glVertex2f.\n",
        "\n",
        "gl.glVertex2f(v22[0][0],v22[1][0])      # [1][0] This represents the column and row number of the specific vector element that\n",
        "gl.glVertex2f(v33[0][0],v33[1][0])      # we want to pass.\n",
        "\n",
        "gl.glVertex2f(v44[0][0],v44[1][0])      # In this function, we are basically passing x then y.\n",
        "gl.glEnd()\n",
        "\n",
        "img_buf = gl.glReadPixelsub(0, 0, WIDTH, HEIGHT, gl.GL_RGB, gl.GL_UNSIGNED_BYTE)\n",
        "img = np.frombuffer(img_buf, np.uint8).reshape(HEIGHT, WIDTH, 3)[::-1]\n",
        "#show.image(img/255.0)\n"
      ],
      "metadata": {
        "id": "ANi7Wf-hbL9Y"
      },
      "execution_count": null,
      "outputs": []
    },
    {
      "cell_type": "code",
      "source": [
        "from IPython.display import display\n",
        "from PIL import Image\n",
        "\n",
        "img_buf = gl.glReadPixelsub(0, 0, WIDTH, HEIGHT, gl.GL_RGB, gl.GL_UNSIGNED_BYTE)\n",
        "img = np.frombuffer(img_buf,np.uint8).reshape(HEIGHT, WIDTH, 3)[::-1]\n",
        "display(Image.fromarray(img,'RGB'))"
      ],
      "metadata": {
        "colab": {
          "base_uri": "https://localhost:8080/",
          "height": 617
        },
        "id": "e6JCjyDMyE75",
        "outputId": "f836fca3-91d8-40a3-dcdc-a7a4cf9ca552"
      },
      "execution_count": null,
      "outputs": [
        {
          "output_type": "display_data",
          "data": {
            "text/plain": [
              "<PIL.Image.Image image mode=RGB size=800x600 at 0x7FA4815C9970>"
            ],
            "image/png": "[encoded data removed]"
          },
          "metadata": {}
        }
      ]
    },
    {
      "cell_type": "code",
      "source": [],
      "metadata": {
        "id": "evjH-3l5fE3w"
      },
      "execution_count": null,
      "outputs": []
    }
  ]
}